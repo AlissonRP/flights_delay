{
  "cells": [
    {
      "cell_type": "raw",
      "id": "a96a7ecb",
      "metadata": {},
      "source": [
        "---\n",
        "title: \"Análise do Atrasos dos Voos\"\n",
        "author: \"Alisson Rosa\"\n",
        "format: \n",
        "  pdf: \n",
        "    include-in-header: \n",
        "      text: |\n",
        "        \\usepackage{float}\n",
        "    number-sections: true\n",
        "    keep-tex: true\n",
        "    fig-width: 5.9\n",
        "    fig-height: 2.9\n",
        "    indent: 2m\n",
        "    geometry:\n",
        "      - top=20mm\n",
        "      - left=18mm\n",
        "      - right=18mm\n",
        "      - heightrounded\n",
        "      \n",
        "execute:\n",
        "  warning: false\n",
        "lang: pt\n",
        "\n",
        "---"
      ]
    },
    {
      "cell_type": "markdown",
      "id": "b6ee7c73",
      "metadata": {},
      "source": [
        "# Introdução\n",
        "O Bureau of Transportation Statistics do Departamento de Transportes dos EUA (DOT) rastreia o desempenho pontual de voos operados por grandes transportadoras aéreas. Informações resumidas sobre o número de voos como: atrasos, cancelamentos e desvios são publicados no relatório mensal do consumidor de viagens aéreas do DOT. Nessa breve análise iremos verificar o comportamento do atraso dos voos, assim respondendo algumas perguntas como:\n",
        "\n",
        "* Será que existem mais atrasos nos fins de semana?\n",
        "* Existe algum mês com mais voos?\n",
        "* Existe horários com mais atrasos?\n",
        "* Existe alguma CIA área com mais voos, e por consequência mais atrasos também?\n",
        "* Existe alguma influência na distância do voo no atraso?\n",
        "\n",
        "O banco de dados aqui utilizado é uma modificação da seguinte base que está disponível no [kaggle](https://www.kaggle.com/datasets/usdot/flight-delays), onde no novo banco foram removidas as observações que não possuíam informações sobre o tempo de atraso.\n",
        "As variáveis utilizadas tais quais os nomes não são auto descritivos são descritas a seguir:\n",
        "\n",
        "\n",
        "* **SCHEDULED_ARRIVAL**: Tempo previsto para a chegada\n",
        "* **ARRIVAL_TIME**\n",
        "* **ARRIVAL_DELAY**: Tempo de atraso (SCHEDULED_ARRIVAL - ARRIVAL_TIME)\n",
        "* **DISTANCE**: Distância do voo\n",
        "\n",
        "\n",
        "Como dito anteriormente temos foco aqui em estudar o comportamento do atraso dos voos, assim a análise será feita com concentração em variáveis que só podem ser observadas antes de saber se o voo de fato atrasou.\n"
      ]
    },
    {
      "cell_type": "code",
      "execution_count": 1,
      "id": "100facca",
      "metadata": {},
      "outputs": [],
      "source": [
        "import pandas as pd\n",
        "import plotly.express as px\n",
        "import seaborn as sns\n",
        "import numpy as np\n",
        "import matplotlib.pyplot as plt\n",
        "prm={\"figure.figsize\":(9, 4),\n",
        "'figure.dpi':150}\n",
        "plt.rcParams.update(prm)\n",
        "sns.set_palette(\"Set2\")\n",
        "\n",
        "\n",
        "from sklearn.model_selection import train_test_split\n",
        "from sklearn.ensemble import RandomForestClassifier\n",
        "from sklearn import metrics\n",
        "from sklearn.metrics import accuracy_score\n",
        "from sklearn.preprocessing import OneHotEncoder\n",
        "from utils.utils import grouped_delay, total_bar, create_proportion\n",
        "\n",
        "\n"
      ]
    },
    {
      "cell_type": "code",
      "execution_count": 2,
      "id": "c2185274",
      "metadata": {},
      "outputs": [
        {
          "name": "stderr",
          "output_type": "stream",
          "text": [
            "/tmp/ipykernel_2232/435648177.py:1: DtypeWarning: Columns (8,9) have mixed types. Specify dtype option on import or set low_memory=False.\n",
            "  df = pd.read_csv(\"data/new_flight.csv\")\n"
          ]
        }
      ],
      "source": [
        "df = pd.read_csv(\"data/new_flight.csv\")\n",
        "\n",
        "df.drop([\"YEAR\", \"FLIGHT_NUMBER\", \"TAIL_NUMBER\", \"TAXI_OUT\",\n",
        "\"CANCELLED\", \"CANCELLATION_REASON\"], axis=1);"
      ]
    },
    {
      "cell_type": "markdown",
      "id": "7d1d502f",
      "metadata": {},
      "source": [
        "# Análise Descritiva Básica\n",
        "É de fundamental importância saber a proporção de voos que atrasam, e isso é informado pela seguinte figura, assim notamos portanto que mais da metade dos voos não atrasa."
      ]
    },
    {
      "cell_type": "code",
      "execution_count": null,
      "id": "c5691825",
      "metadata": {},
      "outputs": [],
      "source": [
        "teste = df.groupby([\"ATRASO\"], as_index=False).size()\n",
        "\n",
        "#%%\n",
        "plt.pie(teste['size'], labels=teste['ATRASO'], autopct='%.0f%%')\n",
        "plt.title(\"Proporção de Atrasos\");"
      ]
    },
    {
      "cell_type": "markdown",
      "id": "9d2b2241",
      "metadata": {},
      "source": [
        "Em posse dessa informação, a partir de agora vamos analisar algumas variáveis e suas relações com os atrasos.\n",
        "\n",
        "## Variáveis que podem levar o atraso\n",
        "Uma maneira interessante de encontrarmos variáveis que podem levar a um possível atraso, é ver se existe alguma diferença na quantidade / proporção de atrasos em níveis dessa variáveis, e é isso que veremos nessa subseção.\n",
        "\n",
        "\n",
        "## Tempo\n",
        "O seguinte gráfico nos fornece um vislumbre sobre o comportamento dos voos nos dias da semana, assim nota-se uma menor quantidade de voo nos fins de semana (1 indica segunda-feira), portanto uma pergunta a se fazer é: Se esses comportamentos se mantém em relação a atrasos ou não.\n",
        "\n",
        "### Dias da semana"
      ]
    },
    {
      "cell_type": "code",
      "execution_count": null,
      "id": "9d0738d3",
      "metadata": {},
      "outputs": [],
      "source": [
        "total_bar(df, \"DAY_OF_WEEK\")"
      ]
    },
    {
      "cell_type": "markdown",
      "id": "79d4af30",
      "metadata": {},
      "source": [
        "Assim, pela seguinte figura percebemos que nos fins de semana acontecem menos atrasos,\n",
        "ou seja, mantém-se o comportamento de menos voos, menos atrasos. Porém deve-se ressaltar que em termos de proporção tem-que dia 4 e 5 (quinta e sexta feira respectivamente) possuem mais atrasos, em outras palavras um comportamento diferente do total de voos, porém é uma proporção relativamente baixa. \n",
        "Assim pode ser interessante utilizar uma variável binária que indica se é fim de semana ou não."
      ]
    },
    {
      "cell_type": "code",
      "execution_count": null,
      "id": "0907a93b",
      "metadata": {},
      "outputs": [],
      "source": [
        "grouped_delay(df, \"DAY_OF_WEEK\") \n"
      ]
    },
    {
      "cell_type": "markdown",
      "id": "4314f064",
      "metadata": {},
      "source": [
        "###  Mês\n",
        "Seguindo a mesma análise vejamos a quantidade de voos por mês, nota-se que a quantidade de voos tem uma queda no mês de fevereiro. Entretanto esse comportamento não é o que acontece para a proporção de atrasos\n"
      ]
    },
    {
      "cell_type": "code",
      "execution_count": null,
      "id": "205d7fd0",
      "metadata": {},
      "outputs": [],
      "source": [
        "\n",
        "data = df.groupby(\"MONTH\", as_index=False).size()\n",
        "px.area(data, x=\"MONTH\", y=\"size\", title='Voos por mes')\n"
      ]
    },
    {
      "cell_type": "markdown",
      "id": "ebd3c551",
      "metadata": {},
      "source": [
        "Pelo seguinte gráfico podemos ver que fevereiro é o mes que mais possui atrasos, um comportamento demasiado não esperado, pois é o que menos possui em quantidade de voos. Nota-se também uma queda de atrasos nos meses que antecedem dezembro.\n"
      ]
    },
    {
      "cell_type": "code",
      "execution_count": null,
      "id": "c0dfda65",
      "metadata": {},
      "outputs": [],
      "source": [
        "grouped_delay(df, \"MONTH\")"
      ]
    },
    {
      "cell_type": "markdown",
      "id": "42d4833a",
      "metadata": {},
      "source": [
        "### Dias do mês\n",
        "Notamos pelo seguinte gráfico que o único dia tal qual tem-se destaque em menos viagens é do dia 31 (nem todos meses tem dia 31!)"
      ]
    },
    {
      "cell_type": "code",
      "execution_count": null,
      "id": "31788ec3",
      "metadata": {},
      "outputs": [],
      "source": [
        "total_bar(df, \"DAY\")"
      ]
    },
    {
      "cell_type": "markdown",
      "id": "c5c6b69d",
      "metadata": {},
      "source": [
        "Entretanto para os atrasos a quantidade tende a ter maior variação ao longo dos dias, tendo picos em dias iniciais do mês e dias próximo ao dia 15."
      ]
    },
    {
      "cell_type": "code",
      "execution_count": null,
      "id": "a87fe91b",
      "metadata": {},
      "outputs": [],
      "source": [
        "grouped_delay(df, \"DAY\")"
      ]
    },
    {
      "cell_type": "markdown",
      "id": "78777242",
      "metadata": {},
      "source": [
        "## AIRLINE\n",
        "\n",
        "Nota-se pela seguinte figura uma discrepância em quantidade de voos entre as companhias aéreas, sendo a WN (Southwest Airlines Co) tendo a maior quantidade, seguida de DL (Delta Air Lines Inc) e AA (American Airlines Inc.) Portanto será que maios voos implica em mais atrasos??"
      ]
    },
    {
      "cell_type": "code",
      "execution_count": null,
      "id": "6fee2dbd",
      "metadata": {},
      "outputs": [],
      "source": [
        "total_bar(df, \"AIRLINE\")"
      ]
    },
    {
      "cell_type": "markdown",
      "id": "4802e210",
      "metadata": {},
      "source": [
        "Aqui temos um comportamento diferente do o que foi visto até agora, pois em geral as companhias em que tem-se menos voos, são justamente as que tiveram mais atrasos (em termos de proporção). \n"
      ]
    },
    {
      "cell_type": "code",
      "execution_count": null,
      "id": "c2a999ff",
      "metadata": {},
      "outputs": [],
      "source": [
        "grouped_delay(df, \"AIRLINE\") "
      ]
    },
    {
      "cell_type": "markdown",
      "id": "7639db89",
      "metadata": {},
      "source": [
        "## Distância do voo\n",
        "\n",
        "Temos uma variável que informa em milhas a distância do voo, a distribuição da distância pode ser vista pela seguinte figura\n"
      ]
    },
    {
      "cell_type": "code",
      "execution_count": null,
      "id": "f00f07cb",
      "metadata": {},
      "outputs": [],
      "source": [
        "sns.histplot(data=df, x=\"DISTANCE\");"
      ]
    },
    {
      "cell_type": "markdown",
      "id": "18341563",
      "metadata": {},
      "source": [
        "Nota-se um comportamento esperado, não existem tanto voos com distâncias imensas, ou seja tem se uma assimetria, onde a maior parte dos voos está concentrada em distâncias \"menores\".\n",
        "\n",
        "\n",
        "\n",
        "\n",
        "\n",
        "\n",
        "\n",
        "## DEPARTURE_DELAY\n",
        "\n",
        "A variável DEPARTURE_DELAY como sabemos informa o tempo de delay, porem ela pode assumir valores negativos, indicando que o voo saiu antes do previsto, pela seguinte figura, temos um comportamento geral do tempo de \"atraso\".\n"
      ]
    },
    {
      "cell_type": "code",
      "execution_count": null,
      "id": "9314825d",
      "metadata": {},
      "outputs": [],
      "source": [
        "sns.boxplot(df, y=\"DEPARTURE_DELAY\")"
      ]
    },
    {
      "cell_type": "markdown",
      "id": "762bbf12",
      "metadata": {},
      "source": [
        "Nota-se portanto inúmeros valores classificados como outliers, e sendo todos eles positivos, indicando voos que atrasaram, assim também é interessante ver algumas informações desses voos. Vamos filtrar para voos que tem tempo de atraso maior (estritamente) que 1058.\n"
      ]
    },
    {
      "cell_type": "code",
      "execution_count": null,
      "id": "3b098a96",
      "metadata": {},
      "outputs": [],
      "source": [
        "delay_filter = df[df[\"DEPARTURE_DELAY\"] >  1658]"
      ]
    },
    {
      "cell_type": "markdown",
      "id": "aabb05e8",
      "metadata": {},
      "source": [
        "Nota-se que dos 6 voos, 4 deles são da AA, e todos eles aconteceram no domingo. \n",
        "\n",
        "## TEMPO DE VOO\n",
        "Vamos aqui analisar o tempo (em horas) previsto para a chegada do voo."
      ]
    },
    {
      "cell_type": "code",
      "execution_count": null,
      "id": "830cb87c",
      "metadata": {},
      "outputs": [],
      "source": [
        "df['SCHEDULED_ARRIVAL'] = pd.to_datetime(df['SCHEDULED_ARRIVAL'].astype(str).str.zfill(4), format='%H%M', errors = 'coerce').dt.strftime('%H')"
      ]
    },
    {
      "cell_type": "markdown",
      "id": "0d6d4ba0",
      "metadata": {},
      "source": [
        "Pela seguinte figura, nota-se uma maior quantidade de voo concentrada as 16h e uma menor da 1 da manhã até as 4.\n"
      ]
    },
    {
      "cell_type": "code",
      "execution_count": null,
      "id": "828084ba",
      "metadata": {},
      "outputs": [],
      "source": [
        "total_bar(df, 'SCHEDULED_ARRIVAL', order=False)"
      ]
    },
    {
      "cell_type": "markdown",
      "id": "cf90df38",
      "metadata": {},
      "source": [
        "A seguinte figura informa a quantidade de atrasos por hora, notamos uma leve diferença se comparado com o total de voos, pois agora a uma \"disputa\" pelo primeiro lugar no horários situados entre 18 e 21h."
      ]
    },
    {
      "cell_type": "code",
      "execution_count": null,
      "id": "d707c896",
      "metadata": {},
      "outputs": [],
      "source": [
        "grouped_delay(df, \"SCHEDULED_ARRIVAL\", order=False, metric='median')"
      ]
    },
    {
      "cell_type": "markdown",
      "id": "3765be84",
      "metadata": {},
      "source": [
        "## Preparação da base para próxima seção\n",
        "\n",
        "Vamos aqui criar algumas variáveis que tornem o modelo mais palatável, assim para a variável dia da semana, vamos torna-lá binária, indicando se é fim de semana ou não.\n"
      ]
    },
    {
      "cell_type": "code",
      "execution_count": 3,
      "id": "7a592a82",
      "metadata": {},
      "outputs": [],
      "source": [
        "df[\"END_WEEK\"] = np.where(df[\"DAY_OF_WEEK\"] >= 6, 1, 0)"
      ]
    },
    {
      "cell_type": "markdown",
      "id": "1aa9a3cf",
      "metadata": {},
      "source": [
        "A hora prevista de chegada será deixada somente a hora, ou seja será removido os minutos.\n",
        "\n",
        "\n",
        "Será também criada uma variável baseada no histórico de proporções de atraso dos aeroportos de saída. e também no histórico de atraso da CIA.\n",
        "\n",
        "Para o aeroporto de origem, a classificação vai ser realizada em:\n",
        "\n",
        "* Proporção de atrasos menor que 15% = OK\n",
        "* Proporção de atrasos entre 15% e 30% = razoavel\n",
        "* Do contrário é classificado como preocupante.\n"
      ]
    },
    {
      "cell_type": "code",
      "execution_count": 4,
      "id": "56fe336b",
      "metadata": {},
      "outputs": [],
      "source": [
        "origin_airport = create_proportion(df, \"ORIGIN_AIRPORT\")\n"
      ]
    },
    {
      "cell_type": "markdown",
      "id": "0d4c8e54",
      "metadata": {},
      "source": [
        "Para o casos de CIA, a classificação vai ser dada por ter a proporção de atraso acima ou abaixo da média\n"
      ]
    },
    {
      "cell_type": "code",
      "execution_count": 5,
      "id": "10e4a9dd",
      "metadata": {},
      "outputs": [],
      "source": [
        "cia_atrasos = create_proportion(df, \"AIRLINE\")\n",
        "\n",
        "#cia_atrasos['HISTORICO_CIA'] = np.where(cia_atrasos['PROPORCAO_ATRASO'] > cia_atrasos['PROPORCAO_ATRASO'].mean(), \"preocupante\", \"ok\")"
      ]
    },
    {
      "cell_type": "code",
      "execution_count": 6,
      "id": "5cb5d187",
      "metadata": {},
      "outputs": [],
      "source": [
        "df = (df.merge(cia_atrasos[['AIRLINE', 'PROPORCAO_ATRASO']], how='left', on='AIRLINE')\n",
        ".merge(origin_airport[['ORIGIN_AIRPORT', 'PROPORCAO_ATRASO']], how='left', on='ORIGIN_AIRPORT'))"
      ]
    },
    {
      "cell_type": "code",
      "execution_count": 23,
      "id": "0a3fd3aa",
      "metadata": {},
      "outputs": [
        {
          "data": {
            "text/html": [
              "<div>\n",
              "<style scoped>\n",
              "    .dataframe tbody tr th:only-of-type {\n",
              "        vertical-align: middle;\n",
              "    }\n",
              "\n",
              "    .dataframe tbody tr th {\n",
              "        vertical-align: top;\n",
              "    }\n",
              "\n",
              "    .dataframe thead th {\n",
              "        text-align: right;\n",
              "    }\n",
              "</style>\n",
              "<table border=\"1\" class=\"dataframe\">\n",
              "  <thead>\n",
              "    <tr style=\"text-align: right;\">\n",
              "      <th></th>\n",
              "      <th>Unnamed: 0</th>\n",
              "      <th>YEAR</th>\n",
              "      <th>MONTH</th>\n",
              "      <th>DAY</th>\n",
              "      <th>DAY_OF_WEEK</th>\n",
              "      <th>AIRLINE</th>\n",
              "      <th>FLIGHT_NUMBER</th>\n",
              "      <th>TAIL_NUMBER</th>\n",
              "      <th>ORIGIN_AIRPORT</th>\n",
              "      <th>DESTINATION_AIRPORT</th>\n",
              "      <th>...</th>\n",
              "      <th>SECURITY_DELAY</th>\n",
              "      <th>AIRLINE_DELAY</th>\n",
              "      <th>LATE_AIRCRAFT_DELAY</th>\n",
              "      <th>WEATHER_DELAY</th>\n",
              "      <th>ATRASO</th>\n",
              "      <th>HISTORICO_CIA</th>\n",
              "      <th>HISTORICO_ATRASO</th>\n",
              "      <th>END_WEEK</th>\n",
              "      <th>PROPORCAO_ATRASO_x</th>\n",
              "      <th>PROPORCAO_ATRASO_y</th>\n",
              "    </tr>\n",
              "  </thead>\n",
              "  <tbody>\n",
              "    <tr>\n",
              "      <th>0</th>\n",
              "      <td>0</td>\n",
              "      <td>2015</td>\n",
              "      <td>1</td>\n",
              "      <td>1</td>\n",
              "      <td>4</td>\n",
              "      <td>AS</td>\n",
              "      <td>98</td>\n",
              "      <td>N407AS</td>\n",
              "      <td>ANC</td>\n",
              "      <td>SEA</td>\n",
              "      <td>...</td>\n",
              "      <td>NaN</td>\n",
              "      <td>NaN</td>\n",
              "      <td>NaN</td>\n",
              "      <td>NaN</td>\n",
              "      <td>0</td>\n",
              "      <td>ok</td>\n",
              "      <td>preocupante</td>\n",
              "      <td>0</td>\n",
              "      <td>0.332206</td>\n",
              "      <td>0.328487</td>\n",
              "    </tr>\n",
              "    <tr>\n",
              "      <th>1</th>\n",
              "      <td>1</td>\n",
              "      <td>2015</td>\n",
              "      <td>1</td>\n",
              "      <td>1</td>\n",
              "      <td>4</td>\n",
              "      <td>AA</td>\n",
              "      <td>2336</td>\n",
              "      <td>N3KUAA</td>\n",
              "      <td>LAX</td>\n",
              "      <td>PBI</td>\n",
              "      <td>...</td>\n",
              "      <td>NaN</td>\n",
              "      <td>NaN</td>\n",
              "      <td>NaN</td>\n",
              "      <td>NaN</td>\n",
              "      <td>0</td>\n",
              "      <td>ok</td>\n",
              "      <td>razoavel</td>\n",
              "      <td>0</td>\n",
              "      <td>0.353736</td>\n",
              "      <td>0.414895</td>\n",
              "    </tr>\n",
              "    <tr>\n",
              "      <th>2</th>\n",
              "      <td>2</td>\n",
              "      <td>2015</td>\n",
              "      <td>1</td>\n",
              "      <td>1</td>\n",
              "      <td>4</td>\n",
              "      <td>US</td>\n",
              "      <td>840</td>\n",
              "      <td>N171US</td>\n",
              "      <td>SFO</td>\n",
              "      <td>CLT</td>\n",
              "      <td>...</td>\n",
              "      <td>NaN</td>\n",
              "      <td>NaN</td>\n",
              "      <td>NaN</td>\n",
              "      <td>NaN</td>\n",
              "      <td>1</td>\n",
              "      <td>preocupante</td>\n",
              "      <td>preocupante</td>\n",
              "      <td>0</td>\n",
              "      <td>0.392770</td>\n",
              "      <td>0.386113</td>\n",
              "    </tr>\n",
              "    <tr>\n",
              "      <th>3</th>\n",
              "      <td>3</td>\n",
              "      <td>2015</td>\n",
              "      <td>1</td>\n",
              "      <td>1</td>\n",
              "      <td>4</td>\n",
              "      <td>AA</td>\n",
              "      <td>258</td>\n",
              "      <td>N3HYAA</td>\n",
              "      <td>LAX</td>\n",
              "      <td>MIA</td>\n",
              "      <td>...</td>\n",
              "      <td>NaN</td>\n",
              "      <td>NaN</td>\n",
              "      <td>NaN</td>\n",
              "      <td>NaN</td>\n",
              "      <td>0</td>\n",
              "      <td>ok</td>\n",
              "      <td>preocupante</td>\n",
              "      <td>0</td>\n",
              "      <td>0.353736</td>\n",
              "      <td>0.414895</td>\n",
              "    </tr>\n",
              "    <tr>\n",
              "      <th>4</th>\n",
              "      <td>4</td>\n",
              "      <td>2015</td>\n",
              "      <td>1</td>\n",
              "      <td>1</td>\n",
              "      <td>4</td>\n",
              "      <td>AS</td>\n",
              "      <td>135</td>\n",
              "      <td>N527AS</td>\n",
              "      <td>SEA</td>\n",
              "      <td>ANC</td>\n",
              "      <td>...</td>\n",
              "      <td>NaN</td>\n",
              "      <td>NaN</td>\n",
              "      <td>NaN</td>\n",
              "      <td>NaN</td>\n",
              "      <td>0</td>\n",
              "      <td>ok</td>\n",
              "      <td>preocupante</td>\n",
              "      <td>0</td>\n",
              "      <td>0.332206</td>\n",
              "      <td>0.395224</td>\n",
              "    </tr>\n",
              "  </tbody>\n",
              "</table>\n",
              "<p>5 rows × 38 columns</p>\n",
              "</div>"
            ],
            "text/plain": [
              "   Unnamed: 0  YEAR  MONTH  DAY  DAY_OF_WEEK AIRLINE  FLIGHT_NUMBER  \\\n",
              "0           0  2015      1    1            4      AS             98   \n",
              "1           1  2015      1    1            4      AA           2336   \n",
              "2           2  2015      1    1            4      US            840   \n",
              "3           3  2015      1    1            4      AA            258   \n",
              "4           4  2015      1    1            4      AS            135   \n",
              "\n",
              "  TAIL_NUMBER ORIGIN_AIRPORT DESTINATION_AIRPORT  ...  SECURITY_DELAY  \\\n",
              "0      N407AS            ANC                 SEA  ...             NaN   \n",
              "1      N3KUAA            LAX                 PBI  ...             NaN   \n",
              "2      N171US            SFO                 CLT  ...             NaN   \n",
              "3      N3HYAA            LAX                 MIA  ...             NaN   \n",
              "4      N527AS            SEA                 ANC  ...             NaN   \n",
              "\n",
              "   AIRLINE_DELAY  LATE_AIRCRAFT_DELAY  WEATHER_DELAY  ATRASO  HISTORICO_CIA  \\\n",
              "0            NaN                  NaN            NaN       0             ok   \n",
              "1            NaN                  NaN            NaN       0             ok   \n",
              "2            NaN                  NaN            NaN       1    preocupante   \n",
              "3            NaN                  NaN            NaN       0             ok   \n",
              "4            NaN                  NaN            NaN       0             ok   \n",
              "\n",
              "   HISTORICO_ATRASO  END_WEEK  PROPORCAO_ATRASO_x  PROPORCAO_ATRASO_y  \n",
              "0       preocupante         0            0.332206            0.328487  \n",
              "1          razoavel         0            0.353736            0.414895  \n",
              "2       preocupante         0            0.392770            0.386113  \n",
              "3       preocupante         0            0.353736            0.414895  \n",
              "4       preocupante         0            0.332206            0.395224  \n",
              "\n",
              "[5 rows x 38 columns]"
            ]
          },
          "execution_count": 23,
          "metadata": {},
          "output_type": "execute_result"
        }
      ],
      "source": [
        "df.head()"
      ]
    },
    {
      "cell_type": "code",
      "execution_count": 7,
      "id": "a31dcdc2",
      "metadata": {},
      "outputs": [],
      "source": [
        "df['HISTORICO_CIA'] = np.where(df['PROPORCAO_ATRASO_x'] > df['PROPORCAO_ATRASO_x'].mean(), 0, 1)"
      ]
    },
    {
      "cell_type": "code",
      "execution_count": 8,
      "id": "0a3c53d6",
      "metadata": {},
      "outputs": [],
      "source": [
        "prop = df[\"PROPORCAO_ATRASO_y\"]\n",
        "df[\"HISTORICO_ATRASO\"] = np.where(\n",
        "    prop <= 0.2, \"OK\", np.where((0.2 < prop) & (prop < 0.35), \"razoavel\", \"preocupante\")\n",
        ")\n",
        "df[['HISTORICO_ATRASO_OK', 'HISTORICO_ATRASO_preocupante', 'HISTORICO_ATRASO_razoavel']] = pd.get_dummies(df, columns=['HISTORICO_ATRASO'])[['HISTORICO_ATRASO_OK', 'HISTORICO_ATRASO_preocupante', 'HISTORICO_ATRASO_razoavel']]"
      ]
    },
    {
      "cell_type": "code",
      "execution_count": 9,
      "id": "a4d31bfe",
      "metadata": {},
      "outputs": [
        {
          "name": "stderr",
          "output_type": "stream",
          "text": [
            "/tmp/ipykernel_2232/789943475.py:3: SettingWithCopyWarning: \n",
            "A value is trying to be set on a copy of a slice from a DataFrame.\n",
            "Try using .loc[row_indexer,col_indexer] = value instead\n",
            "\n",
            "See the caveats in the documentation: https://pandas.pydata.org/pandas-docs/stable/user_guide/indexing.html#returning-a-view-versus-a-copy\n",
            "  df_model[\"SCHEDULED_ARRIVAL\"] = df[\"SCHEDULED_ARRIVAL\"].apply(pd.to_numeric)\n"
          ]
        }
      ],
      "source": [
        "df_model = df[['END_WEEK', 'DISTANCE', 'SCHEDULED_ARRIVAL',\n",
        "'DEPARTURE_DELAY', 'MONTH', 'HISTORICO_ATRASO_OK', 'HISTORICO_ATRASO_preocupante','HISTORICO_ATRASO_razoavel' ,'HISTORICO_CIA','ATRASO']]\n",
        "df_model[\"SCHEDULED_ARRIVAL\"] = df[\"SCHEDULED_ARRIVAL\"].apply(pd.to_numeric)"
      ]
    },
    {
      "cell_type": "markdown",
      "id": "d4d56c26",
      "metadata": {},
      "source": [
        "Sabemos também que algumas modelos não tratam corretamente com dados faltantes (`NA` / `null`), assim é necessário verificar para as variáveis selecionadas se existe alguma observação faltante."
      ]
    },
    {
      "cell_type": "code",
      "execution_count": 40,
      "id": "6681268a",
      "metadata": {},
      "outputs": [
        {
          "data": {
            "text/plain": [
              "END_WEEK                        0\n",
              "DISTANCE                        0\n",
              "SCHEDULED_ARRIVAL               0\n",
              "DEPARTURE_DELAY                 0\n",
              "MONTH                           0\n",
              "HISTORICO_ATRASO_OK             0\n",
              "HISTORICO_ATRASO_preocupante    0\n",
              "HISTORICO_ATRASO_razoavel       0\n",
              "HISTORICO_CIA                   0\n",
              "ATRASO                          0\n",
              "dtype: int64"
            ]
          },
          "execution_count": 40,
          "metadata": {},
          "output_type": "execute_result"
        }
      ],
      "source": [
        "df_model.isna().sum()"
      ]
    },
    {
      "cell_type": "markdown",
      "id": "fd074e84",
      "metadata": {},
      "source": [
        "Assim fica claro que a base esta \"preparada\" para a modelagem.\n",
        "\n",
        "# Modelagem\n",
        "\n",
        "Vamos nessa seção construir um modelo para predizer se o voo vai atrasar ou não, vamos a principio utilizar como variáveis preditoras (covariáveis):\n",
        "* Mês do ano (numérica)\n",
        "* Se é fim de semana (binária);\n",
        "* Distância do voo (numérica)\n",
        "* Total de atraso na saída (numérica)\n",
        "* Hora prevista de chegada (numérica)\n",
        "* Histórico de atraso do aeroporto de saída (categorias)\n",
        "* Histórico da CIA (binária)\n",
        "\n",
        "A base será dividida em 85% para dados de treino, e o restante para teste. Os modelos utilizados serão: Random Forest e Regressão logística.\n",
        "\n",
        "## Random Forest\n"
      ]
    },
    {
      "cell_type": "code",
      "execution_count": 15,
      "id": "fe73c9df",
      "metadata": {},
      "outputs": [],
      "source": [
        "ohe = OneHotEncoder()\n",
        "clf = RandomForestClassifier(n_estimators=100)"
      ]
    },
    {
      "cell_type": "code",
      "execution_count": 45,
      "id": "f7854897",
      "metadata": {},
      "outputs": [],
      "source": [
        "X = df_model.loc[:, df_model.columns != \"ATRASO\"]\n",
        "\n",
        "\n",
        "y = df_model[\"ATRASO\"]\n",
        "\n",
        "X_train, X_test, y_train, y_test = train_test_split(X, y, test_size=0.25)"
      ]
    },
    {
      "cell_type": "code",
      "execution_count": 46,
      "id": "aac95267",
      "metadata": {},
      "outputs": [],
      "source": [
        "clf.fit(X_train, y_train)\n",
        "\n",
        "y_pred = clf.predict(X_test)\n",
        "print(\"Accuracy:\", metrics.accuracy_score(y_test, y_pred))"
      ]
    },
    {
      "cell_type": "markdown",
      "id": "c85b63d4",
      "metadata": {},
      "source": [
        "## Regressão logística\n",
        "\n",
        "\n",
        "\n",
        "\n",
        "\n",
        "# Conclusão"
      ]
    }
  ],
  "metadata": {
    "kernelspec": {
      "display_name": "Python 3.10.6 ('flights')",
      "language": "python",
      "name": "python3"
    },
    "language_info": {
      "codemirror_mode": {
        "name": "ipython",
        "version": 3
      },
      "file_extension": ".py",
      "mimetype": "text/x-python",
      "name": "python",
      "nbconvert_exporter": "python",
      "pygments_lexer": "ipython3",
      "version": "3.10.6"
    },
    "vscode": {
      "interpreter": {
        "hash": "0287f0be7a961025c121ba1d0ce8972f1b58e42a0ecb383fbc386b256b249a68"
      }
    }
  },
  "nbformat": 4,
  "nbformat_minor": 5
}
